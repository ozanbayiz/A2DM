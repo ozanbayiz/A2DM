{
 "cells": [
  {
   "cell_type": "code",
   "execution_count": 2,
   "metadata": {},
   "outputs": [],
   "source": [
    "import numpy as np\n",
    "from glob import glob\n",
    "import os"
   ]
  },
  {
   "cell_type": "code",
   "execution_count": 5,
   "metadata": {},
   "outputs": [],
   "source": [
    "data_dir = '/Users/ozanbayiz/A2DM/data/sns_slahmr_64'\n",
    "motion_files = glob(os.path.join(data_dir, '*.npz'))\n",
    "\n",
    "poses = []\n",
    "trans = []\n",
    "global_rots = []\n",
    "track_masks = []\n",
    "for motion_file in motion_files:\n",
    "    motion = np.load(motion_file)\n",
    "    pose = motion['pose_body'][0]\n",
    "    tran = motion['trans'][0]\n",
    "    global_rot = motion['root_orient'][0]\n",
    "    track_mask = motion['track_mask'][0]\n",
    "\n",
    "    poses.append(pose)\n",
    "    trans.append(tran)\n",
    "    global_rots.append(global_rot)\n",
    "    track_masks.append(track_mask)\n",
    "\n",
    "poses = np.array(poses)\n",
    "trans = np.array(trans)\n",
    "global_rots = np.array(global_rots)\n",
    "track_masks = np.array(track_masks)\n",
    "np.savez('data/sns_slahmr_64.npz', poses=poses, trans=trans, global_rots=global_rots, track_masks=track_masks)\n"
   ]
  },
  {
   "cell_type": "code",
   "execution_count": 6,
   "metadata": {},
   "outputs": [],
   "source": [
    "data = np.load(\"data/sns_slahmr_64.npz\")"
   ]
  },
  {
   "cell_type": "code",
   "execution_count": 9,
   "metadata": {},
   "outputs": [
    {
     "name": "stdout",
     "output_type": "stream",
     "text": [
      "poses (64, 100, 63)\n",
      "trans (64, 100, 3)\n",
      "global_rots (64, 100, 3)\n",
      "track_masks (64, 100)\n"
     ]
    }
   ],
   "source": [
    "for k,v in data.items():\n",
    "    print(k, v.shape)"
   ]
  }
 ],
 "metadata": {
  "kernelspec": {
   "display_name": "audio_diffusion",
   "language": "python",
   "name": "python3"
  },
  "language_info": {
   "codemirror_mode": {
    "name": "ipython",
    "version": 3
   },
   "file_extension": ".py",
   "mimetype": "text/x-python",
   "name": "python",
   "nbconvert_exporter": "python",
   "pygments_lexer": "ipython3",
   "version": "3.12.8"
  }
 },
 "nbformat": 4,
 "nbformat_minor": 2
}
